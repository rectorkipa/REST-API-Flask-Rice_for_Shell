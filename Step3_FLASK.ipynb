{
 "cells": [
  {
   "cell_type": "markdown",
   "metadata": {
    "id": "JQsYK4xc7ZSD"
   },
   "source": [
    "# Итоговый проект (урок № 9), Кривоногов Н.В."
   ]
  },
  {
   "cell_type": "markdown",
   "metadata": {},
   "source": [
    "## Step 3: FLASK"
   ]
  },
  {
   "cell_type": "code",
   "execution_count": 1,
   "metadata": {},
   "outputs": [],
   "source": [
    "# !pip install flask==2.1.0"
   ]
  },
  {
   "cell_type": "code",
   "execution_count": 2,
   "metadata": {
    "id": "KaWqHrF2865_"
   },
   "outputs": [],
   "source": [
    "# from flask_ngrok import run_with_ngrok # для google colab\n",
    "\n",
    "from flask import Flask, request, jsonify\n",
    "import pandas as pd\n",
    "import dill"
   ]
  },
  {
   "cell_type": "markdown",
   "metadata": {
    "id": "6Je5vTHecqjm"
   },
   "source": [
    "### Создаю сервис для обработки запросов к модели"
   ]
  },
  {
   "cell_type": "code",
   "execution_count": 3,
   "metadata": {
    "id": "KixQ-op0GIpV"
   },
   "outputs": [],
   "source": [
    "# загружаю обученную модель: \n",
    "\n",
    "with open('logreg_pipeline.dill', 'rb') as in_strm:\n",
    "    model = dill.load(in_strm)"
   ]
  },
  {
   "cell_type": "code",
   "execution_count": 4,
   "metadata": {
    "id": "QAyoTMLNVJzn"
   },
   "outputs": [],
   "source": [
    "X_test = pd.read_csv(\"X_test.csv\")\n",
    "y_test = pd.read_csv(\"y_test.csv\")"
   ]
  },
  {
   "cell_type": "markdown",
   "metadata": {
    "id": "aomkZwKfdA08"
   },
   "source": [
    "#### Запускаю сервис и не глушу его, пока работаю "
   ]
  },
  {
   "cell_type": "code",
   "execution_count": 8,
   "metadata": {
    "colab": {
     "base_uri": "https://localhost:8080/"
    },
    "id": "pmii6qPeGInX",
    "outputId": "b760787a-8368-4c6d-e618-31dca3b99845"
   },
   "outputs": [
    {
     "name": "stdout",
     "output_type": "stream",
     "text": [
      " * Serving Flask app '__main__' (lazy loading)\n",
      " * Environment: production\n",
      "\u001b[31m   WARNING: This is a development server. Do not use it in a production deployment.\u001b[0m\n",
      "\u001b[2m   Use a production WSGI server instead.\u001b[0m\n",
      " * Debug mode: off\n"
     ]
    },
    {
     "name": "stderr",
     "output_type": "stream",
     "text": [
      " * Running on http://127.0.0.1:5000/ (Press CTRL+C to quit)\n"
     ]
    }
   ],
   "source": [
    "# обработчики и запуск Flask: \n",
    "\n",
    "app = Flask(__name__)\n",
    "# run_with_ngrok(app)  # Start ngrok when app is run # для google colab\n",
    "\n",
    "\n",
    "@app.route(\"/\", methods=[\"GET\"])\n",
    "def general():\n",
    "    return \"Welcome to prediction process\"\n",
    "\n",
    "@app.route('/predict', methods=['POST'])\n",
    "def predict():\n",
    "    data = {\"success\": False}\n",
    "\n",
    "    # ensure an image was properly uploaded to our endpoint\n",
    "    convex_area, eccentricity, perimeter = \"\", \"\", \"\"\n",
    "    request_json = request.get_json()\n",
    "\n",
    "    if request_json[\"convex_area\"]:\n",
    "        convex_area = request_json['convex_area']\n",
    "\n",
    "    if request_json[\"eccentricity\"]:\n",
    "        eccentricity = request_json['eccentricity']\n",
    "        \n",
    "    if request_json[\"perimeter\"]:\n",
    "        perimeter = request_json['perimeter']\n",
    "    \n",
    "    print(convex_area, eccentricity, perimeter)  \n",
    "    preds = model.predict_proba(pd.DataFrame({\"convex_area\": [convex_area],\n",
    "                                              \"eccentricity\": [eccentricity],\n",
    "                                              \"perimeter\": [perimeter]}))\n",
    "    data[\"predictions\"] = preds[:, 1][0]\n",
    "    # indicate that the request was a success\n",
    "    data[\"success\"] = True\n",
    "    print('OK')\n",
    "\n",
    "    # return the data dictionary as a JSON response\n",
    "    return jsonify(data)\n",
    "\n",
    "\n",
    "if __name__ == '__main__':\n",
    "    app.run()"
   ]
  },
  {
   "cell_type": "code",
   "execution_count": null,
   "metadata": {},
   "outputs": [],
   "source": []
  },
  {
   "cell_type": "markdown",
   "metadata": {
    "id": "EmNwlDjpUFHb"
   },
   "source": [
    "### Тестовый клиент"
   ]
  },
  {
   "cell_type": "code",
   "execution_count": 9,
   "metadata": {
    "id": "DiXuQOF6TLh0"
   },
   "outputs": [],
   "source": [
    "# пример данных:\n",
    "\n",
    "convex_area, eccentricity, perimeter = (16343, 0.90705806, 518.8930054)\n",
    "\n",
    "body = {\n",
    "        'convex_area': convex_area,\n",
    "        'eccentricity': eccentricity,\n",
    "        'perimeter': perimeter\n",
    "        }"
   ]
  },
  {
   "cell_type": "code",
   "execution_count": 10,
   "metadata": {
    "colab": {
     "base_uri": "https://localhost:8080/"
    },
    "id": "oZMa4-lwS8f7",
    "outputId": "7ea8d937-0251-4a0c-cfa2-19760eb73beb"
   },
   "outputs": [
    {
     "name": "stdout",
     "output_type": "stream",
     "text": [
      "16343 0.90705806 518.8930054\n",
      "OK\n"
     ]
    },
    {
     "data": {
      "text/plain": [
       "{'predictions': 0.9993726893179599, 'success': True}"
      ]
     },
     "execution_count": 10,
     "metadata": {},
     "output_type": "execute_result"
    }
   ],
   "source": [
    "with app.test_client() as t:\n",
    "    response = t.post('/predict', json=body)\n",
    "    json_data = response.get_json()\n",
    "\n",
    "json_data"
   ]
  }
 ],
 "metadata": {
  "colab": {
   "provenance": [],
   "toc_visible": true
  },
  "kernelspec": {
   "display_name": "Python 3 (ipykernel)",
   "language": "python",
   "name": "python3"
  },
  "language_info": {
   "codemirror_mode": {
    "name": "ipython",
    "version": 3
   },
   "file_extension": ".py",
   "mimetype": "text/x-python",
   "name": "python",
   "nbconvert_exporter": "python",
   "pygments_lexer": "ipython3",
   "version": "3.9.13"
  }
 },
 "nbformat": 4,
 "nbformat_minor": 1
}
